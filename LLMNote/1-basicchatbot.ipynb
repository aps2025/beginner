{
 "cells": [
  {
   "cell_type": "code",
   "execution_count": 5,
   "id": "7b3c34de",
   "metadata": {},
   "outputs": [],
   "source": [
    "from typing import Annotated\n",
    "from typing_extensions import TypedDict\n",
    "\n",
    "from langgraph.graph import StateGraph,START,END        \n",
    "from langgraph.graph.message import add_messages\n",
    "\n",
    "#from typing_extensions import TypedDict\n",
    "\n",
    "#from langgraph.graph import StateGraph,START,END\n",
    "#from langgraph.graph.message import add_messages"
   ]
  },
  {
   "cell_type": "code",
   "execution_count": 31,
   "id": "597d2ba2",
   "metadata": {},
   "outputs": [],
   "source": [
    "class State(TypedDict):\n",
    "    # Messages have the type \"list\". The `add_messages` function\n",
    "    # in the annotation defines how this state key should be updated\n",
    "    # (in this case, it appends messages to the list, rather than overwriting them)\n",
    "    messages:Annotated[list,add_messages]\n",
    "#graph_builder =StateGraph(State)"
   ]
  },
  {
   "cell_type": "code",
   "execution_count": 32,
   "id": "49ac4fe8",
   "metadata": {},
   "outputs": [
    {
     "data": {
      "text/plain": [
       "True"
      ]
     },
     "execution_count": 32,
     "metadata": {},
     "output_type": "execute_result"
    }
   ],
   "source": [
    "import os \n",
    "from dotenv import load_dotenv\n",
    "load_dotenv()"
   ]
  },
  {
   "cell_type": "code",
   "execution_count": null,
   "id": "f583bfe9",
   "metadata": {},
   "outputs": [
    {
     "data": {
      "text/plain": [
       "ChatGroq(client=<groq.resources.chat.completions.Completions object at 0x000001A8EB32D700>, async_client=<groq.resources.chat.completions.AsyncCompletions object at 0x000001A8E94BC620>, model_name='llama3-8b-8192', model_kwargs={}, groq_api_key=SecretStr('**********'))"
      ]
     },
     "execution_count": 33,
     "metadata": {},
     "output_type": "execute_result"
    }
   ],
   "source": [
    "\n",
    "from langchain_groq import ChatGroq\n",
    "from langchain.chat_models import init_chat_model\n",
    "\n",
    "llm = ChatGroq(model=\"llama3-8b-8192\")\n",
    "llm"
   ]
  },
  {
   "cell_type": "code",
   "execution_count": 36,
   "id": "e67dd888",
   "metadata": {},
   "outputs": [
    {
     "data": {
      "text/plain": [
       "ChatGroq(client=<groq.resources.chat.completions.Completions object at 0x000001A8EB2E4620>, async_client=<groq.resources.chat.completions.AsyncCompletions object at 0x000001A8EB2E7C20>, model_name='llama3-8b-8192', model_kwargs={}, groq_api_key=SecretStr('**********'))"
      ]
     },
     "execution_count": 36,
     "metadata": {},
     "output_type": "execute_result"
    }
   ],
   "source": [
    "llm = init_chat_model(\"groq:llama3-8b-8192\")\n",
    "llm"
   ]
  },
  {
   "cell_type": "code",
   "execution_count": 37,
   "id": "7498285d",
   "metadata": {},
   "outputs": [],
   "source": [
    "def chatbot(state:State):\n",
    "    return {\"messages\":[llm.invoke(state[\"messages\"])]}"
   ]
  },
  {
   "cell_type": "code",
   "execution_count": null,
   "id": "dcf80718",
   "metadata": {},
   "outputs": [],
   "source": [
    "graph_builder =StateGraph(State)\n",
    "graph_builder.add_node(\"llmchatbot\",chatbot)\n",
    "#adding Edges\n",
    "graph_builder.add_edge(START,\"llmchatbot\")\n",
    "graph_builder.add_edge(\"llmchatbot\",END)\n",
    "## compile the graph\n",
    "graph=graph_builder.compile()\n",
    "graph"
   ]
  },
  {
   "cell_type": "code",
   "execution_count": null,
   "id": "9ec8774d",
   "metadata": {},
   "outputs": [
    {
     "name": "stdout",
     "output_type": "stream",
     "text": [
      "Try to print \n",
      "Error\n"
     ]
    }
   ],
   "source": [
    "## Visualize the graph\n",
    "from IPython.display import Image,display\n",
    "\n",
    "try:\n",
    "    print(\"Try to print \")\n",
    "    image = Image(graph.get_graph().draw_mermaid_png())\n",
    "    print(\"Try to print \")\n",
    "    display(image)\n",
    "except Exception:\n",
    "    print(\"Error\")\n",
    "    pass\n"
   ]
  },
  {
   "cell_type": "code",
   "execution_count": null,
   "id": "ca565d42",
   "metadata": {},
   "outputs": [],
   "source": [
    "response=graph.invoke({\"messages\":\"Hi\"})"
   ]
  },
  {
   "cell_type": "code",
   "execution_count": null,
   "id": "88054f3b",
   "metadata": {},
   "outputs": [],
   "source": [
    "response[\"messages\"][-1].content"
   ]
  },
  {
   "cell_type": "code",
   "execution_count": null,
   "id": "4f676e24",
   "metadata": {},
   "outputs": [],
   "source": [
    "for event in graph.stream({\"messages\":\"Hi How are you?\"}):\n",
    "    for value in event.values():\n",
    "        print(value[\"messages\"][-1].content)"
   ]
  }
 ],
 "metadata": {
  "kernelspec": {
   "display_name": "Python 3",
   "language": "python",
   "name": "python3"
  },
  "language_info": {
   "codemirror_mode": {
    "name": "ipython",
    "version": 3
   },
   "file_extension": ".py",
   "mimetype": "text/x-python",
   "name": "python",
   "nbconvert_exporter": "python",
   "pygments_lexer": "ipython3",
   "version": "3.12.7"
  }
 },
 "nbformat": 4,
 "nbformat_minor": 5
}
